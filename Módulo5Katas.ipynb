{
 "cells": [
  {
   "cell_type": "markdown",
   "metadata": {},
   "source": [
    "# Ejercicio1 - Utilizar operadores aritméticos"
   ]
  },
  {
   "cell_type": "code",
   "execution_count": 1,
   "metadata": {},
   "outputs": [
    {
     "name": "stdout",
     "output_type": "stream",
     "text": [
      "628949330\n",
      "390577533.93\n",
      "390577533.93\n"
     ]
    }
   ],
   "source": [
    "# Crear variables para almacenar las dos distancias\n",
    "Tierra =149597870\n",
    "Júpiter =778547200\n",
    "\n",
    "# Calcular la distancia entre planetas\n",
    "resultado1 = Júpiter - Tierra\n",
    "resultado2 = resultado1 * 0.621\n",
    "resultado3 = (Júpiter - Tierra)* 0.621\n",
    "\n",
    "print(resultado1)\n",
    "print(resultado2)\n",
    "print(resultado3)"
   ]
  },
  {
   "cell_type": "markdown",
   "metadata": {},
   "source": [
    "# Ejercicio 2: convierte cadenas en números y usa valores absolutos"
   ]
  },
  {
   "cell_type": "code",
   "execution_count": 4,
   "metadata": {},
   "outputs": [
    {
     "name": "stdout",
     "output_type": "stream",
     "text": [
      "-50300000\n",
      "31236300.0\n"
     ]
    }
   ],
   "source": [
    "# Almacenar las entradas del usuario\n",
    "planeta1 = input('Introduzca la distancia del primer planeta')\n",
    "planeta2 = input('Introduzca la distancia del segundo planeta')\n",
    "\n",
    "# Convierte las cadenas de ambos planetas a números enteros\n",
    "planeta1 = int(planeta1)\n",
    "planeta2 = int(planeta2)\n",
    "\n",
    "# Realizar el cálculo y determinar el valor absoluto\n",
    "resultado = planeta2 - planeta1\n",
    "print(resultado)\n",
    "\n",
    "# Convertir de KM a Millas\n",
    "resultadoFinal = (planeta2 - planeta1) * 0.621\n",
    "print(abs(resultadoFinal))"
   ]
  }
 ],
 "metadata": {
  "interpreter": {
   "hash": "40e40c77c195a483d0b166234517ea79764acae80d53658f799021905045ed07"
  },
  "kernelspec": {
   "display_name": "Python 3.10.2 64-bit (windows store)",
   "language": "python",
   "name": "python3"
  },
  "language_info": {
   "codemirror_mode": {
    "name": "ipython",
    "version": 3
   },
   "file_extension": ".py",
   "mimetype": "text/x-python",
   "name": "python",
   "nbconvert_exporter": "python",
   "pygments_lexer": "ipython3",
   "version": "3.10.2"
  },
  "orig_nbformat": 4
 },
 "nbformat": 4,
 "nbformat_minor": 2
}
