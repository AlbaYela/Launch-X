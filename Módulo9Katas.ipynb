{
 "cells": [
  {
   "cell_type": "markdown",
   "metadata": {},
   "source": [
    "# Ejercicio 1: Trabajar con argumentos en funciones"
   ]
  },
  {
   "cell_type": "code",
   "execution_count": null,
   "metadata": {},
   "outputs": [],
   "source": [
    "# Función para leer 3 tanques de combustible y muestre el promedio\n",
    "def reporte(tanque1, tanque2, tanque3):\n",
    "    total = (tanque1 + tanque2 + tanque3) / 3\n",
    "    return f\"\"\"Reporte:\n",
    "    Tanque 1: {tanque1}%\n",
    "    Tanque 2: {tanque2}%\n",
    "    Tanque 3: {tanque3}%\n",
    "    Promedio en total: {total}% \n",
    "    \"\"\"\n",
    "\n",
    "# Llamamos a la función que genera el reporte print(funcion(tanque1, tanque2, tanque3))\n",
    "print(reporte(80, 70, 85))\n",
    "\n",
    "# Función promedio \n",
    "def promedio(values):\n",
    "    total = sum(values)/len(values)\n",
    "    return total\n",
    "\n",
    "print(promedio([20, 20, 20])) \n",
    "\n",
    "# Actualiza la función\n",
    "def reporte(tanque1, tanque2, tanque3):\n",
    "    return f\"\"\"Reporte:\n",
    "    Promedio en total: {promedio([tanque1, tanque2, tanque3])}%\n",
    "    Tanque 1: {tanque1}%\n",
    "    Tanque 2: {tanque2}%\n",
    "    Tanque 3: {tanque3}% \n",
    "    \"\"\"\n",
    "print(reporte(88, 76, 70))"
   ]
  },
  {
   "cell_type": "markdown",
   "metadata": {},
   "source": [
    "# Ejercicio 2: Trabajo con argumentos de palabra clave"
   ]
  },
  {
   "cell_type": "code",
   "execution_count": null,
   "metadata": {},
   "outputs": [],
   "source": [
    "# Función con un informe preciso de la misión. Considera hora de prelanzamiento, tiempo de vuelo, destino, tanque externo y tanque interno\n",
    "def reporte_mision(prelanzamiento, tiempo_vuelo, destino, tanque1, tanque2):\n",
    "    return f\"\"\"\n",
    "    Mision con direccion a: {destino}\n",
    "    Tiempo total de viaje: {prelanzamiento + tiempo_vuelo} minutos\n",
    "    Total de combustible: {tanque1 + tanque2} galones\n",
    "    \"\"\"\n",
    "\n",
    "print(reporte_mision(14, 51, \"Luna\", 200000, 300000))\n",
    "\n",
    "\n",
    "# Escribe tu nueva función de reporte considerando lo anterior\n",
    "def reporte_mision(destino, *minutos, **reserva_gasolina):\n",
    "    return f\"\"\"\n",
    "    Mision con direccion a: {destino}\n",
    "    Tiempo total de viaje: {sum(minutos)} minutos\n",
    "    Total de combustible: {sum(reserva_gasolina.values())} galones\n",
    "    \"\"\"\n",
    "\n",
    "print(reporte_mision(\"Marte\", 10, 15, 51, main=300000, external=600000))\n",
    "\n",
    "# Escribe tu nueva función\n",
    "def reporte_mision(destino, *minutos, **reserva_gasolina):\n",
    "    reporte_principal = f\"\"\"\n",
    "    Mision con direccion a: {destino}\n",
    "    Tiempo total de viaje: {sum(minutos)} minutos\n",
    "    Total de combustible: {sum(reserva_gasolina.values())}\n",
    "    \"\"\"\n",
    "    for tanque_nombre, galones in reserva_gasolina.items():\n",
    "        reporte_principal += f\"{tanque_nombre} tanque --> {galones} galones que quedan \\n\"\n",
    "    return reporte_principal\n",
    "\n",
    "print(reporte_mision(\"Venus\", 8, 11, 55, principal=300000, externo=200000))\n"
   ]
  }
 ],
 "metadata": {
  "interpreter": {
   "hash": "40e40c77c195a483d0b166234517ea79764acae80d53658f799021905045ed07"
  },
  "kernelspec": {
   "display_name": "Python 3.10.2 64-bit (windows store)",
   "language": "python",
   "name": "python3"
  },
  "language_info": {
   "codemirror_mode": {
    "name": "ipython",
    "version": 3
   },
   "file_extension": ".py",
   "mimetype": "text/x-python",
   "name": "python",
   "nbconvert_exporter": "python",
   "pygments_lexer": "ipython3",
   "version": "3.10.2"
  },
  "orig_nbformat": 4
 },
 "nbformat": 4,
 "nbformat_minor": 2
}
