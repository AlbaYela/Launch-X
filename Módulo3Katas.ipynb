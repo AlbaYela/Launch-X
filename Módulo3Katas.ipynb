{
 "cells": [
  {
   "cell_type": "markdown",
   "metadata": {},
   "source": [
    "# Ejercicio - Escribir declaraciones if, else, y elif"
   ]
  },
  {
   "cell_type": "code",
   "execution_count": 8,
   "metadata": {},
   "outputs": [
    {
     "name": "stdout",
     "output_type": "stream",
     "text": [
      "Cielo despejado, buen dia\n",
      "Cielo despejado, buen dia\n"
     ]
    }
   ],
   "source": [
    "# Lógica condicional que imprima una advertencia si un asteroide se acerca a la Tierra demasiado rápido.\n",
    "velocidad= 20\n",
    "\n",
    "if velocidad > 25:\n",
    "    print('¡Alerta! Asteoide')\n",
    "else:\n",
    "    print('Cielo despejado, buen dia')\n",
    "    \n",
    "# Lógica condicional que usa declaraciones if, else, y elif para alertar a las personas de todo el mundo que deben buscar un asteroide en el cielo.\n",
    "velocidad2= 19\n",
    "if velocidad2 == 20:\n",
    "    print('¡Alerta se detecta una luz en el cielo!')\n",
    "elif velocidad2 > 20:\n",
    "    print('¡Alerta se detecta una luz en el cielo!')\n",
    "else:\n",
    "    print('Cielo despejado, buen dia')"
   ]
  },
  {
   "cell_type": "markdown",
   "metadata": {},
   "source": [
    "# Ejercicio: Uso de operadores and y or"
   ]
  },
  {
   "cell_type": "code",
   "execution_count": 13,
   "metadata": {},
   "outputs": [
    {
     "name": "stdout",
     "output_type": "stream",
     "text": [
      "Cielo despejado, buen dia\n"
     ]
    }
   ],
   "source": [
    "velocidad =18\n",
    "tamaño = 12\n",
    "if velocidad >25 and tamaño >25:\n",
    "    print('¡ALERTA DE IMPACTO!')\n",
    "elif velocidad >= 20:\n",
    "    print('¡Alerta se detecta una luz en el cielo!')\n",
    "else:\n",
    "    print('Cielo despejado, buen dia')\n"
   ]
  }
 ],
 "metadata": {
  "interpreter": {
   "hash": "40e40c77c195a483d0b166234517ea79764acae80d53658f799021905045ed07"
  },
  "kernelspec": {
   "display_name": "Python 3.10.2 64-bit (windows store)",
   "language": "python",
   "name": "python3"
  },
  "language_info": {
   "codemirror_mode": {
    "name": "ipython",
    "version": 3
   },
   "file_extension": ".py",
   "mimetype": "text/x-python",
   "name": "python",
   "nbconvert_exporter": "python",
   "pygments_lexer": "ipython3",
   "version": "3.10.2"
  },
  "orig_nbformat": 4
 },
 "nbformat": 4,
 "nbformat_minor": 2
}
